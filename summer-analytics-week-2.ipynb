{
 "cells": [
  {
   "cell_type": "code",
   "execution_count": 1,
   "id": "0cae757c",
   "metadata": {
    "_cell_guid": "b1076dfc-b9ad-4769-8c92-a6c4dae69d19",
    "_uuid": "8f2839f25d086af736a60e9eeb907d3b93b6e0e5",
    "execution": {
     "iopub.execute_input": "2025-06-11T10:55:47.429213Z",
     "iopub.status.busy": "2025-06-11T10:55:47.428813Z",
     "iopub.status.idle": "2025-06-11T10:55:49.578368Z",
     "shell.execute_reply": "2025-06-11T10:55:49.576868Z"
    },
    "papermill": {
     "duration": 2.155902,
     "end_time": "2025-06-11T10:55:49.580513",
     "exception": false,
     "start_time": "2025-06-11T10:55:47.424611",
     "status": "completed"
    },
    "tags": []
   },
   "outputs": [
    {
     "name": "stdout",
     "output_type": "stream",
     "text": [
      "/kaggle/input/summer-analytics-mid-hackathon/hacktest.csv\n",
      "/kaggle/input/summer-analytics-mid-hackathon/hacktrain.csv\n"
     ]
    }
   ],
   "source": [
    "# This Python 3 environment comes with many helpful analytics libraries installed\n",
    "# It is defined by the kaggle/python Docker image: https://github.com/kaggle/docker-python\n",
    "# For example, here's several helpful packages to load\n",
    "\n",
    "import numpy as np # linear algebra\n",
    "import pandas as pd # data processing, CSV file I/O (e.g. pd.read_csv)\n",
    "\n",
    "# Input data files are available in the read-only \"../input/\" directory\n",
    "# For example, running this (by clicking run or pressing Shift+Enter) will list all files under the input directory\n",
    "\n",
    "import os\n",
    "for dirname, _, filenames in os.walk('/kaggle/input'):\n",
    "    for filename in filenames:\n",
    "        print(os.path.join(dirname, filename))\n",
    "\n",
    "# You can write up to 20GB to the current directory (/kaggle/working/) that gets preserved as output when you create a version using \"Save & Run All\" \n",
    "# You can also write temporary files to /kaggle/temp/, but they won't be saved outside of the current session"
   ]
  },
  {
   "cell_type": "code",
   "execution_count": null,
   "id": "4467a5b8",
   "metadata": {
    "execution": {
     "iopub.execute_input": "2025-06-11T10:55:49.587459Z",
     "iopub.status.busy": "2025-06-11T10:55:49.587033Z",
     "iopub.status.idle": "2025-06-11T10:55:52.139275Z",
     "shell.execute_reply": "2025-06-11T10:55:52.138188Z"
    },
    "papermill": {
     "duration": 2.557528,
     "end_time": "2025-06-11T10:55:52.140861",
     "exception": false,
     "start_time": "2025-06-11T10:55:49.583333",
     "status": "completed"
    },
    "tags": []
   },
   "outputs": [],
   "source": [
    "import pandas as pd\n",
    "from sklearn.impute import SimpleImputer\n",
    "train_df = pd.read_csv(\"/kaggle/input/summer-analytics-mid-hackathon/hacktrain.csv\")\n",
    "train_df #ignore the warnings\n",
    "X = train_df.drop(columns=['Unnamed: 0','ID','class'])\n",
    "y = train_df['class']\n",
    "\n",
    "imputer = SimpleImputer(strategy='mean')\n",
    "X_imputed = pd.DataFrame(imputer.fit_transform(X), columns=X.columns)"
   ]
  },
  {
   "cell_type": "code",
   "execution_count": null,
   "id": "ee28c3bb",
   "metadata": {
    "execution": {
     "iopub.execute_input": "2025-06-11T10:55:52.146919Z",
     "iopub.status.busy": "2025-06-11T10:55:52.146525Z",
     "iopub.status.idle": "2025-06-11T10:55:52.166936Z",
     "shell.execute_reply": "2025-06-11T10:55:52.165696Z"
    },
    "papermill": {
     "duration": 0.025345,
     "end_time": "2025-06-11T10:55:52.168641",
     "exception": false,
     "start_time": "2025-06-11T10:55:52.143296",
     "status": "completed"
    },
    "tags": []
   },
   "outputs": [],
   "source": [
    "import numpy as np\n",
    "\n",
    "#summary features\n",
    "ndvi_vals = X_imputed.values\n",
    "ndvi_mean = np.mean(ndvi_vals, axis=1)\n",
    "ndvi_std  = np.std(ndvi_vals, axis=1)\n",
    "ndvi_max  = np.max(ndvi_vals, axis=1)\n",
    "ndvi_min  = np.min(ndvi_vals, axis=1)\n",
    "ndvi_range = ndvi_max - ndvi_min\n",
    "\n",
    "# Add features\n",
    "X_features = X_imputed.copy()\n",
    "X_features['ndvi_mean']  = ndvi_mean\n",
    "X_features['ndvi_std']   = ndvi_std\n",
    "X_features['ndvi_max']   = ndvi_max\n",
    "X_features['ndvi_min']   = ndvi_min\n",
    "X_features['ndvi_range'] = ndvi_range"
   ]
  },
  {
   "cell_type": "code",
   "execution_count": null,
   "id": "4efd79d4",
   "metadata": {
    "execution": {
     "iopub.execute_input": "2025-06-11T10:55:52.174640Z",
     "iopub.status.busy": "2025-06-11T10:55:52.174256Z",
     "iopub.status.idle": "2025-06-11T10:55:53.006039Z",
     "shell.execute_reply": "2025-06-11T10:55:53.005065Z"
    },
    "papermill": {
     "duration": 0.840962,
     "end_time": "2025-06-11T10:55:53.011928",
     "exception": false,
     "start_time": "2025-06-11T10:55:52.170966",
     "status": "completed"
    },
    "tags": []
   },
   "outputs": [
    {
     "data": {
      "text/html": [
       "<style>#sk-container-id-1 {color: black;background-color: white;}#sk-container-id-1 pre{padding: 0;}#sk-container-id-1 div.sk-toggleable {background-color: white;}#sk-container-id-1 label.sk-toggleable__label {cursor: pointer;display: block;width: 100%;margin-bottom: 0;padding: 0.3em;box-sizing: border-box;text-align: center;}#sk-container-id-1 label.sk-toggleable__label-arrow:before {content: \"▸\";float: left;margin-right: 0.25em;color: #696969;}#sk-container-id-1 label.sk-toggleable__label-arrow:hover:before {color: black;}#sk-container-id-1 div.sk-estimator:hover label.sk-toggleable__label-arrow:before {color: black;}#sk-container-id-1 div.sk-toggleable__content {max-height: 0;max-width: 0;overflow: hidden;text-align: left;background-color: #f0f8ff;}#sk-container-id-1 div.sk-toggleable__content pre {margin: 0.2em;color: black;border-radius: 0.25em;background-color: #f0f8ff;}#sk-container-id-1 input.sk-toggleable__control:checked~div.sk-toggleable__content {max-height: 200px;max-width: 100%;overflow: auto;}#sk-container-id-1 input.sk-toggleable__control:checked~label.sk-toggleable__label-arrow:before {content: \"▾\";}#sk-container-id-1 div.sk-estimator input.sk-toggleable__control:checked~label.sk-toggleable__label {background-color: #d4ebff;}#sk-container-id-1 div.sk-label input.sk-toggleable__control:checked~label.sk-toggleable__label {background-color: #d4ebff;}#sk-container-id-1 input.sk-hidden--visually {border: 0;clip: rect(1px 1px 1px 1px);clip: rect(1px, 1px, 1px, 1px);height: 1px;margin: -1px;overflow: hidden;padding: 0;position: absolute;width: 1px;}#sk-container-id-1 div.sk-estimator {font-family: monospace;background-color: #f0f8ff;border: 1px dotted black;border-radius: 0.25em;box-sizing: border-box;margin-bottom: 0.5em;}#sk-container-id-1 div.sk-estimator:hover {background-color: #d4ebff;}#sk-container-id-1 div.sk-parallel-item::after {content: \"\";width: 100%;border-bottom: 1px solid gray;flex-grow: 1;}#sk-container-id-1 div.sk-label:hover label.sk-toggleable__label {background-color: #d4ebff;}#sk-container-id-1 div.sk-serial::before {content: \"\";position: absolute;border-left: 1px solid gray;box-sizing: border-box;top: 0;bottom: 0;left: 50%;z-index: 0;}#sk-container-id-1 div.sk-serial {display: flex;flex-direction: column;align-items: center;background-color: white;padding-right: 0.2em;padding-left: 0.2em;position: relative;}#sk-container-id-1 div.sk-item {position: relative;z-index: 1;}#sk-container-id-1 div.sk-parallel {display: flex;align-items: stretch;justify-content: center;background-color: white;position: relative;}#sk-container-id-1 div.sk-item::before, #sk-container-id-1 div.sk-parallel-item::before {content: \"\";position: absolute;border-left: 1px solid gray;box-sizing: border-box;top: 0;bottom: 0;left: 50%;z-index: -1;}#sk-container-id-1 div.sk-parallel-item {display: flex;flex-direction: column;z-index: 1;position: relative;background-color: white;}#sk-container-id-1 div.sk-parallel-item:first-child::after {align-self: flex-end;width: 50%;}#sk-container-id-1 div.sk-parallel-item:last-child::after {align-self: flex-start;width: 50%;}#sk-container-id-1 div.sk-parallel-item:only-child::after {width: 0;}#sk-container-id-1 div.sk-dashed-wrapped {border: 1px dashed gray;margin: 0 0.4em 0.5em 0.4em;box-sizing: border-box;padding-bottom: 0.4em;background-color: white;}#sk-container-id-1 div.sk-label label {font-family: monospace;font-weight: bold;display: inline-block;line-height: 1.2em;}#sk-container-id-1 div.sk-label-container {text-align: center;}#sk-container-id-1 div.sk-container {/* jupyter's `normalize.less` sets `[hidden] { display: none; }` but bootstrap.min.css set `[hidden] { display: none !important; }` so we also need the `!important` here to be able to override the default hidden behavior on the sphinx rendered scikit-learn.org. See: https://github.com/scikit-learn/scikit-learn/issues/21755 */display: inline-block !important;position: relative;}#sk-container-id-1 div.sk-text-repr-fallback {display: none;}</style><div id=\"sk-container-id-1\" class=\"sk-top-container\"><div class=\"sk-text-repr-fallback\"><pre>Pipeline(steps=[(&#x27;standardscaler&#x27;, StandardScaler()),\n",
       "                (&#x27;logisticregression&#x27;,\n",
       "                 LogisticRegression(class_weight=&#x27;balanced&#x27;, max_iter=1000,\n",
       "                                    multi_class=&#x27;multinomial&#x27;))])</pre><b>In a Jupyter environment, please rerun this cell to show the HTML representation or trust the notebook. <br />On GitHub, the HTML representation is unable to render, please try loading this page with nbviewer.org.</b></div><div class=\"sk-container\" hidden><div class=\"sk-item sk-dashed-wrapped\"><div class=\"sk-label-container\"><div class=\"sk-label sk-toggleable\"><input class=\"sk-toggleable__control sk-hidden--visually\" id=\"sk-estimator-id-1\" type=\"checkbox\" ><label for=\"sk-estimator-id-1\" class=\"sk-toggleable__label sk-toggleable__label-arrow\">Pipeline</label><div class=\"sk-toggleable__content\"><pre>Pipeline(steps=[(&#x27;standardscaler&#x27;, StandardScaler()),\n",
       "                (&#x27;logisticregression&#x27;,\n",
       "                 LogisticRegression(class_weight=&#x27;balanced&#x27;, max_iter=1000,\n",
       "                                    multi_class=&#x27;multinomial&#x27;))])</pre></div></div></div><div class=\"sk-serial\"><div class=\"sk-item\"><div class=\"sk-estimator sk-toggleable\"><input class=\"sk-toggleable__control sk-hidden--visually\" id=\"sk-estimator-id-2\" type=\"checkbox\" ><label for=\"sk-estimator-id-2\" class=\"sk-toggleable__label sk-toggleable__label-arrow\">StandardScaler</label><div class=\"sk-toggleable__content\"><pre>StandardScaler()</pre></div></div></div><div class=\"sk-item\"><div class=\"sk-estimator sk-toggleable\"><input class=\"sk-toggleable__control sk-hidden--visually\" id=\"sk-estimator-id-3\" type=\"checkbox\" ><label for=\"sk-estimator-id-3\" class=\"sk-toggleable__label sk-toggleable__label-arrow\">LogisticRegression</label><div class=\"sk-toggleable__content\"><pre>LogisticRegression(class_weight=&#x27;balanced&#x27;, max_iter=1000,\n",
       "                   multi_class=&#x27;multinomial&#x27;)</pre></div></div></div></div></div></div></div>"
      ],
      "text/plain": [
       "Pipeline(steps=[('standardscaler', StandardScaler()),\n",
       "                ('logisticregression',\n",
       "                 LogisticRegression(class_weight='balanced', max_iter=1000,\n",
       "                                    multi_class='multinomial'))])"
      ]
     },
     "execution_count": 4,
     "metadata": {},
     "output_type": "execute_result"
    }
   ],
   "source": [
    "from sklearn.preprocessing import StandardScaler\n",
    "from sklearn.linear_model import LogisticRegression\n",
    "from sklearn.pipeline import make_pipeline\n",
    "\n",
    "pipeline = make_pipeline(\n",
    "    StandardScaler(),\n",
    "    LogisticRegression(multi_class='multinomial', solver='lbfgs', C=1.0, class_weight='balanced', max_iter=1000)\n",
    ")\n",
    "pipeline.fit(X_features, y)"
   ]
  },
  {
   "cell_type": "code",
   "execution_count": null,
   "id": "3767631b",
   "metadata": {
    "execution": {
     "iopub.execute_input": "2025-06-11T10:55:53.022243Z",
     "iopub.status.busy": "2025-06-11T10:55:53.021677Z",
     "iopub.status.idle": "2025-06-11T10:55:53.820546Z",
     "shell.execute_reply": "2025-06-11T10:55:53.819750Z"
    },
    "papermill": {
     "duration": 0.806387,
     "end_time": "2025-06-11T10:55:53.822483",
     "exception": false,
     "start_time": "2025-06-11T10:55:53.016096",
     "status": "completed"
    },
    "tags": []
   },
   "outputs": [],
   "source": [
    "pipeline.fit(X_features, y)\n",
    "\n",
    "test_df = pd.read_csv(\"/kaggle/input/summer-analytics-mid-hackathon/hacktest.csv\")"
   ]
  },
  {
   "cell_type": "code",
   "execution_count": null,
   "id": "735e40b5",
   "metadata": {
    "execution": {
     "iopub.execute_input": "2025-06-11T10:55:53.834682Z",
     "iopub.status.busy": "2025-06-11T10:55:53.833232Z",
     "iopub.status.idle": "2025-06-11T10:55:53.885323Z",
     "shell.execute_reply": "2025-06-11T10:55:53.884520Z"
    },
    "papermill": {
     "duration": 0.060293,
     "end_time": "2025-06-11T10:55:53.888089",
     "exception": false,
     "start_time": "2025-06-11T10:55:53.827796",
     "status": "completed"
    },
    "tags": []
   },
   "outputs": [],
   "source": [
    "X_test = test_df.drop(columns=['Unnamed: 0','ID'])\n",
    "X_test_imputed = pd.DataFrame(imputer.transform(X_test), columns=X_test.columns)\n",
    "\n",
    "#on test set\n",
    "\n",
    "ndvi_vals_test = X_test_imputed.values.astype(float)\n",
    "X_test_imputed['ndvi_mean']  = np.mean(ndvi_vals_test, axis=1)\n",
    "X_test_imputed['ndvi_std']   = np.std(ndvi_vals_test, axis=1)\n",
    "X_test_imputed['ndvi_max']   = np.max(ndvi_vals_test, axis=1)\n",
    "X_test_imputed['ndvi_min']   = np.min(ndvi_vals_test, axis=1)\n",
    "X_test_imputed['ndvi_range'] = X_test_imputed['ndvi_max'] - X_test_imputed['ndvi_min']\n",
    "\n",
    "#test set\n",
    "predictions = pipeline.predict(X_test_imputed)\n",
    "\n",
    "# submission\n",
    "submission = pd.DataFrame({'ID': test_df['ID'], 'class': predictions})\n",
    "submission.to_csv('submission.csv', index=False)"
   ]
  }
 ],
 "metadata": {
  "kaggle": {
   "accelerator": "none",
   "dataSources": [
    {
     "databundleVersionId": 12585144,
     "sourceId": 104491,
     "sourceType": "competition"
    }
   ],
   "dockerImageVersionId": 31040,
   "isGpuEnabled": false,
   "isInternetEnabled": true,
   "language": "python",
   "sourceType": "notebook"
  },
  "kernelspec": {
   "display_name": "Python 3",
   "language": "python",
   "name": "python3"
  },
  "language_info": {
   "codemirror_mode": {
    "name": "ipython",
    "version": 3
   },
   "file_extension": ".py",
   "mimetype": "text/x-python",
   "name": "python",
   "nbconvert_exporter": "python",
   "pygments_lexer": "ipython3",
   "version": "3.11.11"
  },
  "papermill": {
   "default_parameters": {},
   "duration": 12.579694,
   "end_time": "2025-06-11T10:55:54.612311",
   "environment_variables": {},
   "exception": null,
   "input_path": "__notebook__.ipynb",
   "output_path": "__notebook__.ipynb",
   "parameters": {},
   "start_time": "2025-06-11T10:55:42.032617",
   "version": "2.6.0"
  }
 },
 "nbformat": 4,
 "nbformat_minor": 5
}
